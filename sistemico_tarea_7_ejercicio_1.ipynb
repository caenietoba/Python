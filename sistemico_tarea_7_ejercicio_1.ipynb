{
  "nbformat": 4,
  "nbformat_minor": 0,
  "metadata": {
    "colab": {
      "name": "sistemico tarea 7 ejercicio 1.ipynb",
      "provenance": [],
      "collapsed_sections": [],
      "include_colab_link": true
    },
    "kernelspec": {
      "name": "python3",
      "display_name": "Python 3"
    }
  },
  "cells": [
    {
      "cell_type": "markdown",
      "metadata": {
        "id": "view-in-github",
        "colab_type": "text"
      },
      "source": [
        "<a href=\"https://colab.research.google.com/github/caenietoba/Python/blob/master/sistemico_tarea_7_ejercicio_1.ipynb\" target=\"_parent\"><img src=\"https://colab.research.google.com/assets/colab-badge.svg\" alt=\"Open In Colab\"/></a>"
      ]
    },
    {
      "cell_type": "code",
      "metadata": {
        "id": "JD8vgFy60F1u",
        "colab_type": "code",
        "outputId": "4c9cb828-ea5d-41c8-8205-5bfcfd7a093d",
        "colab": {
          "base_uri": "https://localhost:8080/",
          "height": 355
        }
      },
      "source": [
        "''' \n",
        "  Consideraciones\n",
        "  Si bien es un código libre y funciona, no recomiendo usarlo ya que fue \n",
        "  desarrollado en python usando programación funcional y el código esta\n",
        "  realmente inentendible, con decirles que estos comentarios opupan más \n",
        "  lineas que el código en sí. Tener esto en cuenta si alguien va a usar esto.\n",
        "  El algoritmo de Djistra lo tome de StackOverflow, aun que no recuerdo el \n",
        "  link de como lo saque.\n",
        "'''\n",
        "''' \n",
        "  Descripción\n",
        "  Este programa esta realizado para el trabajo de la materia de pensamiento\n",
        "  sistemico, su función es la de dado un grafo hallar todas las caracteristicas\n",
        "  de este tal como los caminos mínimos entre nodos, los coeficientes de \n",
        "  agrupamiento de los nodos, los coeficientes de intermediación de cada nodo, \n",
        "  el diametro del grafo, etc...\n",
        "'''\n",
        "''' \n",
        "  Instrucciones de uso\n",
        "  EL ingreso de datos se realizara de la siguiente manera\n",
        "    - El primer valor a ingresar será el número de nodos totales en el grafo, \n",
        "    el grafo se llenara con los nodos del [0...n-1] siendo n el número de nodos.\n",
        "    - Los siguientes m valores (indefinidos) seran los links entre los nodos, \n",
        "    estos se escribiran de la forma \"j k\" don de j es un nodo y k otro nodo, \n",
        "    ambos deben estar separados por un espacio y j debe ser distinto a k. Hay \n",
        "    que tener en cuenta también que el grafo es no dirgido por lo cual agregar\n",
        "    \"j k\" es lo mismo que agregar \"k j\".\n",
        "    - Una vez digitado todos los links se deberá ingresar la palabra \"finish\" \n",
        "    para que el programa deje de pedir datos.\n",
        "  \n",
        "  Este programa no considera que el usuario se equivoque ingresando los datos,\n",
        "  por ejemplo no digitar \"finish\" o no poner espacios al agregar los links entre\n",
        "  los nodos botara error, también no comenzar a contar los nodos desde 0 y \n",
        "  agregar un link a un nodo no existente en el grafo.\n",
        "'''\n",
        "\n",
        "def djistra(graph):\n",
        "  min_paths = {}\n",
        "  for i in range(len(graph)):\n",
        "    unvisited = {node: None for node in range(len(graph))} #using None as +inf\n",
        "    visited = {}\n",
        "    current = i\n",
        "    currentDistance = 0\n",
        "    unvisited[current] = currentDistance\n",
        "\n",
        "    while True:\n",
        "        for neighbour, distance in graph[current].items():\n",
        "            if neighbour not in unvisited: continue\n",
        "            newDistance = currentDistance + distance\n",
        "            if unvisited[neighbour] is None or unvisited[neighbour] > newDistance:\n",
        "                unvisited[neighbour] = newDistance\n",
        "        visited[current] = currentDistance\n",
        "        del unvisited[current]\n",
        "        if not unvisited: break\n",
        "        candidates = [node for node in unvisited.items() if node[1]]\n",
        "        current, currentDistance = candidates[0]\n",
        "    \n",
        "    min_paths[i] = visited\n",
        "  return min_paths\n",
        "\n",
        "num_nodes = int(input(\"How many nodes?: \"))\n",
        "graph = {i: {} for i in range(num_nodes)}\n",
        "\n",
        "while(True):\n",
        "  edge = input(\"edge: \").split(' ')\n",
        "  if(edge[0] == \"finish\"):\n",
        "    break;\n",
        "  graph[int(edge[0])][int(edge[1])] = 1\n",
        "  graph[int(edge[1])][int(edge[0])] = 1\n",
        "\n",
        "min_paths = djistra(graph)\n",
        "neighbors = {i: len(graph[i]) for i in range(num_nodes)}\n",
        "links_neighbors = {i: sum([sum([1 if neighbour2 in graph[neighbour1] else 0 for neighbour2, distance in graph[i].items()])for neighbour1, distance in graph[i].items()])/2 for i in range(num_nodes)}\n",
        "max_len = max([max(min_paths[node].values())] for node in range(num_nodes))[0]\n",
        "diameter = (2/(num_nodes*(num_nodes-1)))*(sum([sum(min_paths[i].values()) for i in range(num_nodes) ])/2)\n",
        "co_groupment = {node: 0 if (neighbors[node] == 1) else (links_neighbors[node]/((neighbors[node]*(neighbors[node]-1))/2)) for node in range(num_nodes)}\n",
        "intermediation = {node: (num_nodes-1)/sum(min_paths[node].values()) for node in range(num_nodes)}\n",
        "\n",
        "print(\"Graph:-------------------------------------------\" + str(graph))\n",
        "print(\"Minimun distance of each node to each node:------\" + str(min_paths))\n",
        "print(\"Maximun distance in the graph:-------------------\" + str(max_len))\n",
        "print(\"Neighbors of each node:--------------------------\" + str(neighbors))\n",
        "print(\"Number of links between neighbors of each node:--\" + str(links_neighbors))\n",
        "print(\"Diamenter of the graph:--------------------------\" + str(diameter))\n",
        "print(\"Coefficient of agroupment of each node:----------\" + str(co_groupment))\n",
        "print(\"Coefficient of intermediation of each node:------\" + str(intermediation))"
      ],
      "execution_count": 0,
      "outputs": [
        {
          "output_type": "stream",
          "text": [
            "How many nodes?: 6\n",
            "edge: 0 1\n",
            "edge: 0 3\n",
            "edge: 0 5\n",
            "edge: 1 2\n",
            "edge: 2 3\n",
            "edge: 3 5\n",
            "edge: 4 5\n",
            "edge: finish\n",
            "Graph:-------------------------------------------{0: {1: 1, 3: 1, 5: 1}, 1: {0: 1, 2: 1}, 2: {1: 1, 3: 1}, 3: {0: 1, 2: 1, 5: 1}, 4: {5: 1}, 5: {0: 1, 3: 1, 4: 1}}\n",
            "Minimun distance of each node to each node:------{0: {0: 0, 1: 1, 2: 2, 3: 1, 5: 1, 4: 2}, 1: {1: 0, 0: 1, 2: 1, 3: 2, 5: 2, 4: 3}, 2: {2: 0, 1: 1, 0: 2, 3: 1, 5: 2, 4: 3}, 3: {3: 0, 0: 1, 1: 2, 2: 1, 5: 1, 4: 2}, 4: {4: 0, 5: 1, 0: 2, 1: 3, 2: 4, 3: 2}, 5: {5: 0, 0: 1, 1: 2, 2: 3, 3: 1, 4: 1}}\n",
            "Maximun distance in the graph:-------------------4\n",
            "Neighbors of each node:--------------------------{0: 3, 1: 2, 2: 2, 3: 3, 4: 1, 5: 3}\n",
            "Number of links between neighbors of each node:--{0: 1.0, 1: 0.0, 2: 0.0, 3: 1.0, 4: 0.0, 5: 1.0}\n",
            "Diamenter of the graph:--------------------------1.7333333333333334\n",
            "Coefficient of agroupment of each node:----------{0: 0.3333333333333333, 1: 0.0, 2: 0.0, 3: 0.3333333333333333, 4: 0, 5: 0.3333333333333333}\n",
            "Coefficient of intermediation of each node:------{0: 0.7142857142857143, 1: 0.5555555555555556, 2: 0.5555555555555556, 3: 0.7142857142857143, 4: 0.4166666666666667, 5: 0.625}\n"
          ],
          "name": "stdout"
        }
      ]
    }
  ]
}